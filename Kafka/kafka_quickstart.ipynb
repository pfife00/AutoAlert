{
 "cells": [
  {
   "cell_type": "markdown",
   "metadata": {},
   "source": [
    "<h2>Setting up kafka</h2>\n",
    "kakfa was setup using pegasus\n",
    "\n",
    "<h3>Testing out topics locally (on kafka node)</h3>\n",
    "\n",
    "<h4>First create the topics</h4>\n",
    "The code below will create a test topic<br>\n",
    "\n",
    "<code>/usr/local/kafka/bin/kafka-topics.sh --create --zookeeper localhost:2181 --replication-factor 3 --partitions 3 --topic test_topic</code><br>\n",
    "\n",
    "where:<br>\n",
    "<ul>\n",
    "    <li>replication-factor sets how many times a topic is replicated in kafka for fault tolerance</li>\n",
    "    <li>partitions sets the number of kafka partitions</li>\n",
    "    <li>topic creates the kafka topic</li>\n",
    "    </ul>\n",
    "    \n",
    "<h4>View a topic</h4>\n",
    "An existing topic can be viewed by running the code below:<br>\n",
    "<code>/usr/local/kafka/bin/kafka-topics.sh --list --zookeeper localhost:2181</code>\n",
    "\n",
    "<h4>Write messages from the console</h4>\n",
    "First run the code below create producer<br>\n",
    "<code>/usr/local/kafka/bin/kafka-console-producer.sh --broker-list localhost:9092 --topic test</code><br>\n",
    "\n",
    "Then run the below code:<br>\n",
    "<code>echo \"my test message\" | /usr/local/kafka/bin/kafka-console-producer.sh --broker-list localhost:9092 --topic price</code>\n",
    "\n",
    "<h4>Read from the console</h4>\n",
    "Run the command below to read from console<br>\n",
    "<code>/usr/local/kafka/bin/kafka-console-consumer.sh --bootstrap-server localhost:9092 --topic test --from-beginning</code>\n",
    "\n",
    "<h4>Run Producer</h4>\n",
    "Use the below code to run the producer<br>\n",
    "<code>/usr/local/kafka/bin/kafka-console-consumer.sh --bootstrap-server localhost:9092 --topic price --from-beginning</code>"
   ]
  },
  {
   "cell_type": "code",
   "execution_count": null,
   "metadata": {},
   "outputs": [],
   "source": []
  }
 ],
 "metadata": {
  "kernelspec": {
   "display_name": "Python 3",
   "language": "python",
   "name": "python3"
  },
  "language_info": {
   "codemirror_mode": {
    "name": "ipython",
    "version": 3
   },
   "file_extension": ".py",
   "mimetype": "text/x-python",
   "name": "python",
   "nbconvert_exporter": "python",
   "pygments_lexer": "ipython3",
   "version": "3.7.3"
  }
 },
 "nbformat": 4,
 "nbformat_minor": 2
}
