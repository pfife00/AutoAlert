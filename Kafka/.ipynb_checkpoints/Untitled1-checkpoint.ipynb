{
 "cells": [
  {
   "cell_type": "code",
   "execution_count": 1,
   "metadata": {},
   "outputs": [],
   "source": [
    "############################################################\n",
    "# Author: Forest Pfeiffer\n",
    "\n",
    "#Create a Kafka producer\n",
    "# that reads data from a S3 bucket and sends it to a topic.\n",
    "############################################################\n",
    "\n",
    "#to install boto3, run the following command:\n",
    "#pip install boto3\n",
    "\n",
    "from kafka import KafkaProducer\n",
    "import time\n",
    "import boto3\n",
    "import botocore\n",
    "import pandas as pd\n",
    "import configparser\n",
    "\n",
    "def main():\n",
    "\n",
    "        #create Kafka producer that communicates with master node of ec2 instance running Kafka\n",
    "        producer = KafkaProducer(bootstrap_servers = 'ec2-50-112-13-159.us-west-2.compute.amazonaws.com:9092')\n",
    "        \n",
    "        #read credentials from dwg.cfg file (note this file will not be stored on github for security reasons)\n",
    "        config = configparser.ConfigParser()\n",
    "        config.read('dwh.cfg')\n",
    "        AWS_ACCESS_KEY_ID = config.get('AWS', 'KEY')\n",
    "        AWS_SECRET_ACCESS_KEY = config.get('AWS', 'SECRET')\n",
    "        \n",
    "        #creates bucket that points to data\n",
    "        s3 = boto3.resource('s3', aws_access_key_id = AWS_ACCESS_KEY_ID, aws_secret_access_key = AWS_SECRET_ACCESS_KEY)\n",
    "        bucket = s3.Bucket('deutsche-boerse-xetra-pds')\n",
    "        \n",
    "        #the deutsche-boerse-xetra-pds bucket contains a list of csv links that point to data for each hour of trading\n",
    "        #first, iterate through each object (link to csv) in the bucket\n",
    "        for object in bucket.objects.all():\n",
    "                #filter for non-trading hours (empty csv) by size\n",
    "                if object.size > 136:\n",
    "                        url = 'https://s3.eu-central-1.amazonaws.com/deutsche-boerse-xetra-pds/' + object.key\n",
    "                        data = pd.read_csv(url)\n",
    "                        #read through each line of csv and send the line to the kafka topic\n",
    "                        for index, row in data.iterrows():\n",
    "                                output = ''\n",
    "                                for element in row:\n",
    "                                        output = output + str(element) + \"^\"\n",
    "                                producer.send('rawDBGData', output.encode())\n",
    "                                producer.flush()\n",
    "        producer.close()\n",
    "        return\n",
    "\n",
    "if __name__ == '__main__':\n",
    "        main()"
   ]
  },
  {
   "cell_type": "code",
   "execution_count": null,
   "metadata": {},
   "outputs": [],
   "source": []
  }
 ],
 "metadata": {
  "kernelspec": {
   "display_name": "Python 3",
   "language": "python",
   "name": "python3"
  },
  "language_info": {
   "codemirror_mode": {
    "name": "ipython",
    "version": 3
   },
   "file_extension": ".py",
   "mimetype": "text/x-python",
   "name": "python",
   "nbconvert_exporter": "python",
   "pygments_lexer": "ipython3",
   "version": "3.7.3"
  }
 },
 "nbformat": 4,
 "nbformat_minor": 2
}
