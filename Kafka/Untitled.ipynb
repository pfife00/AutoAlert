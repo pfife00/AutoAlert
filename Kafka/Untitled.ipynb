{
 "cells": [
  {
   "cell_type": "markdown",
   "metadata": {},
   "source": [
    "<h3>Setting up Passwordless SSH</h3>\n",
    "\n",
    "<h4>kafka-master</h4>\n",
    "\n",
    "<code>sudo apt install openssh-server openssh-client</code>\n",
    "\n",
    "<code>cd ./.ssh/</code>\n",
    "\n",
    "<code>ssh-keygen -t rsa-P “” </code>\n",
    "\n",
    "<code>id_rsa</code>\n",
    "\n",
    "<code>cat id_rsa.pub</code>\n",
    "cat id_rsa.pub\n",
    "\n",
    "Copy text\n",
    "\n",
    "Test out connection\n",
    "<code>ssh -i ~/.ssh/id_rsa ubuntu@slave ip address</code>\n",
    "\n",
    "<code>ssh ubuntu@slave ip address</code>\n",
    "\n",
    "\n",
    "<h4>kafka-1</h4>\n",
    "<code>nano ./.ssh/authorized_keys</code>\n",
    "\n",
    "paste copied text after existing key and save\n",
    "\n",
    "<h4>kafka-2</h4>\n",
    "<code>nano ./.ssh/authorized_keys</code>\n",
    "\n",
    "paste copied text after existing key and save\n",
    "\n",
    "<h4>kafka-3</h4>\n",
    "<code>nano ./.ssh/authorized_keys</code>\n",
    "\n",
    "paste copied text after existing key and save\n"
   ]
  },
  {
   "cell_type": "code",
   "execution_count": null,
   "metadata": {},
   "outputs": [],
   "source": []
  }
 ],
 "metadata": {
  "kernelspec": {
   "display_name": "Python 3",
   "language": "python",
   "name": "python3"
  },
  "language_info": {
   "codemirror_mode": {
    "name": "ipython",
    "version": 3
   },
   "file_extension": ".py",
   "mimetype": "text/x-python",
   "name": "python",
   "nbconvert_exporter": "python",
   "pygments_lexer": "ipython3",
   "version": "3.7.3"
  }
 },
 "nbformat": 4,
 "nbformat_minor": 2
}
