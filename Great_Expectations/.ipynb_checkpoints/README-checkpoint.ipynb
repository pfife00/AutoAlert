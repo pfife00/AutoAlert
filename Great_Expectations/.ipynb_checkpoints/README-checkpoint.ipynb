{
 "cells": [
  {
   "cell_type": "markdown",
   "metadata": {},
   "source": [
    "<h2>Great Expectations</h2>\n",
    "Great expectations provides an approach to automated testing: pipeline tests. Pipeline tests are applied to data (instead of code) and at batch time (instead of compile or deploy time). Pipeline tests are like unit tests for datasets: they help you guard against upstream data changes and monitor data quality. <a href=\"http://docs.greatexpectations.io/en/latest/index.html#/\">Great Expectations Documentation</a><br>\n",
    "\n",
    "\n",
    "<h3>Installation</h3>\n",
    "The Great Expectations library requires a python version greater than 3.5. To install on ubuntu 16.04 version, you have to install the a python version higher than 3.5. I installed python 3.7 for this project.\n",
    "\n",
    "<h4>Step 1: Install Anaconda Environment</h4>\n",
    "To properly install Great Expectations after installing python is to install the Anaconda environment. \n",
    "First download the Anaconda package: <br>\n",
    "<code>wget https://repo.anaconda.com/archive/Anaconda3-2019.03-Linux-x86_64.sh</code><br>\n",
    "\n",
    "Next run the installer:<br>\n",
    "<code>sh Anaconda3-2019.03-Linux-x86_64.sh</code><br>\n",
    "\n",
    "<h4>Step 2: Setup the Anaconda Environment</h4>\n",
    "Activate the installation by \n"
   ]
  },
  {
   "cell_type": "code",
   "execution_count": null,
   "metadata": {},
   "outputs": [],
   "source": []
  }
 ],
 "metadata": {
  "kernelspec": {
   "display_name": "Python 3",
   "language": "python",
   "name": "python3"
  },
  "language_info": {
   "codemirror_mode": {
    "name": "ipython",
    "version": 3
   },
   "file_extension": ".py",
   "mimetype": "text/x-python",
   "name": "python",
   "nbconvert_exporter": "python",
   "pygments_lexer": "ipython3",
   "version": "3.7.3"
  }
 },
 "nbformat": 4,
 "nbformat_minor": 2
}
