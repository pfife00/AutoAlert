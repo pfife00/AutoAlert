{
 "cells": [
  {
   "cell_type": "markdown",
   "metadata": {},
   "source": [
    "<h3>Data Dictionary</h3>\n",
    "\n",
    "The Xetra data is an S3 bucket stored at the following location:<br>\n",
    "s3://deutsche-boerse-xetra-pds <br>\n",
    "\n",
    "To access the data through URL, use the following link:<br>\n",
    "https://s3.eu-central-1.amazonaws.com/deutsche-boerse-xetra-pds/<br>\n",
    "\n",
    "Each Xetra csv file within the bucket is defined as follows<br>\n",
    "<ul>\n",
    "    <li><b>ISIN</b> ISIN of the security:\tstring</li>\n",
    "    <li><b>Mnemonic</b>\tStock exchange ticker symbol:\tstring</li>\n",
    "<li><b>SecurityDesc</b>\tDescription of the security:\tstring</li>\n",
    "<li><b>SecurityType</b>\tType of security:\tstring</li>\n",
    "<li><b>Currency</b>\tCurrency in which the product is traded\tISO 4217: string (see https://en.wikipedia.org/wiki/ISO_4217)</li>\n",
    "<li><b>SecurityID</b>\tUnique identifier for each contract:\tint</li>\n",
    "<li><b>Date</b>\tDate of trading period:\tdate</li>\n",
    "<li><b>Time</b>\tMinute of trading to which this entry relates:\ttime (hh:mm)</li>\n",
    "<li><b>StartPrice</b>\tTrading price at the start of period:\tfloat</li>\n",
    "<li><b>MaxPrice</b>\tMaximum price over the period:\tfloat</li>\n",
    "<li><b>MinPrice</b>\tMinimum price over the period:\tfloat</li>\n",
    "<li><b>EndPrice</b>\tTrading price at the end of the period:\tfloat</li>\n",
    "<li><b>TradedVolume</b>\tTotal value traded:\tfloat</li>\n",
    "<li><b>NumberOfTrades</b>\tNumber of distinct trades during the period:\tint</li>\n",
    "</ul>"
   ]
  },
  {
   "cell_type": "code",
   "execution_count": null,
   "metadata": {},
   "outputs": [],
   "source": []
  }
 ],
 "metadata": {
  "kernelspec": {
   "display_name": "Python 3",
   "language": "python",
   "name": "python3"
  },
  "language_info": {
   "codemirror_mode": {
    "name": "ipython",
    "version": 3
   },
   "file_extension": ".py",
   "mimetype": "text/x-python",
   "name": "python",
   "nbconvert_exporter": "python",
   "pygments_lexer": "ipython3",
   "version": "3.7.3"
  }
 },
 "nbformat": 4,
 "nbformat_minor": 2
}
