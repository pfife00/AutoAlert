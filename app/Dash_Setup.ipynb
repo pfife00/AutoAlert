{
 "cells": [
  {
   "cell_type": "markdown",
   "metadata": {},
   "source": [
    "<h2>Install Dash</h2>\n",
    "\n",
    "Dash can be installed using pip:<br>\n",
    "\n",
    "<h3>Step 1: Install with Pip</h3><br>\n",
    "Fist install the core dash backend<br>\n",
    "<code>pip install dash==1.0.0</code><br>\n",
    "\n",
    "Next install the  DAQ components <br>\n",
    "<code>pip install dash-daq==0.1.0</code><br>\n",
    "\n",
    "<h4>Version Check</h4><br>\n",
    "To check which Dash version you are using <br>\n",
    "\n",
    "First import the library<br>\n",
    "<code>import dash_core_components</code><br>\n",
    "\n",
    "Then run the print command<br>\n",
    "<code>print(dash_core_components.__version__)</code><br>\n",
    "\n",
    "\n",
    "\n"
   ]
  },
  {
   "cell_type": "code",
   "execution_count": null,
   "metadata": {},
   "outputs": [],
   "source": []
  }
 ],
 "metadata": {
  "kernelspec": {
   "display_name": "Python 3",
   "language": "python",
   "name": "python3"
  },
  "language_info": {
   "codemirror_mode": {
    "name": "ipython",
    "version": 3
   },
   "file_extension": ".py",
   "mimetype": "text/x-python",
   "name": "python",
   "nbconvert_exporter": "python",
   "pygments_lexer": "ipython3",
   "version": "3.7.3"
  }
 },
 "nbformat": 4,
 "nbformat_minor": 2
}
