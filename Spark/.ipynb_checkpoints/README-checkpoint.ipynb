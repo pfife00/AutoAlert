{
 "cells": [
  {
   "cell_type": "markdown",
   "metadata": {},
   "source": [
    "<h3>Readme</h3>\n",
    "\n",
    "<h4>pyspark installation</h4>\n",
    "<code>pip --no-cache-dir install pyspark</code>\n",
    "\n",
    "<h4>psycopg2 installation</h4>\n",
    "Install psycopg2 for postgre<br>\n",
    "<code>pip install psycopg2-binary</code>\n",
    "\n",
    "<h4>preprocessing.py</h4>\n",
    "The preprocessing.py file should be located within the /home/ubuntu directory"
   ]
  },
  {
   "cell_type": "code",
   "execution_count": null,
   "metadata": {},
   "outputs": [],
   "source": []
  }
 ],
 "metadata": {
  "kernelspec": {
   "display_name": "Python 3",
   "language": "python",
   "name": "python3"
  },
  "language_info": {
   "codemirror_mode": {
    "name": "ipython",
    "version": 3
   },
   "file_extension": ".py",
   "mimetype": "text/x-python",
   "name": "python",
   "nbconvert_exporter": "python",
   "pygments_lexer": "ipython3",
   "version": "3.7.3"
  }
 },
 "nbformat": 4,
 "nbformat_minor": 2
}
