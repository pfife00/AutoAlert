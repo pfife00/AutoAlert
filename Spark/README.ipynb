{
 "cells": [
  {
   "cell_type": "markdown",
   "metadata": {},
   "source": [
    "<h3>Readme</h3>\n",
    "\n",
    "<h4>pyspark installation</h4>\n",
    "<code>pip --no-cache-dir install pyspark</code>\n",
    "\n",
    "<h4>psycopg2 installation</h4>\n",
    "Install psycopg2 for postgre<br>\n",
    "<code>pip install psycopg2-binary</code>\n",
    "\n",
    "<h4>preprocessing.py</h4>\n",
    "The preprocessing.py file should be located within the /home/ubuntu directory\n",
    "\n",
    "<h4>Setting Python to Version 3.5</h4>\n",
    "In order to utilize the Great Expectations library, Python version 3.6 or higher is required. Ubuntu 16.04 ships default with Python 3.5 by default. The spark workers were upgraded to Python 3.5 in order to communicate with the spark master which is running Python 3.7.<br>\n",
    "Setting the default version on each node requires the following code blocks:\n",
    "<code>sudo update-alternatives --install /usr/bin/python python /usr/bin/python2.7 1</code><br>\n",
    "<code>sudo update-alternatives --install /usr/bin/python python /usr/bin/python3.5 2</code><br>\n",
    "<code>sudo update-alternatives --config python</code><br>\n",
    "Choose option 2 after running the third code block<br>\n",
    "\n",
    "On the spark-master node, and additional step is required by changing the following value:\n",
    "<code>vi ~/.bashrc</code><br>\n",
    "change the variable <code>alias python='/usr/bin/python3.6</code><br> to which python you wish to use.<br>\n",
    "\n",
    "then run:\n",
    "<code>source ~/.bashrc</code><br>"
   ]
  },
  {
   "cell_type": "code",
   "execution_count": null,
   "metadata": {},
   "outputs": [],
   "source": []
  }
 ],
 "metadata": {
  "kernelspec": {
   "display_name": "Python 3",
   "language": "python",
   "name": "python3"
  },
  "language_info": {
   "codemirror_mode": {
    "name": "ipython",
    "version": 3
   },
   "file_extension": ".py",
   "mimetype": "text/x-python",
   "name": "python",
   "nbconvert_exporter": "python",
   "pygments_lexer": "ipython3",
   "version": "3.7.3"
  }
 },
 "nbformat": 4,
 "nbformat_minor": 2
}
