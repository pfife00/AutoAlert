{
 "cells": [
  {
   "cell_type": "markdown",
   "metadata": {},
   "source": [
    "<h3>Description</h3>\n",
    "\n",
    "This directory contains the scripts to execute the preprocessing.py file located within the spark folder and the producer.py file located within the kafka folder.\n",
    "To start the pipeline, first run the run.sh file by typing the following command to your terminal window:<br>\n",
    "<code>sh run.sh</code><br>\n",
    "\n",
    "To stop the process, run the stop.sh file by typing the following commad to your terminal window:<br>\n",
    "<code>sh stop.sh</code>"
   ]
  },
  {
   "cell_type": "code",
   "execution_count": null,
   "metadata": {},
   "outputs": [],
   "source": []
  }
 ],
 "metadata": {
  "kernelspec": {
   "display_name": "Python 3",
   "language": "python",
   "name": "python3"
  },
  "language_info": {
   "codemirror_mode": {
    "name": "ipython",
    "version": 3
   },
   "file_extension": ".py",
   "mimetype": "text/x-python",
   "name": "python",
   "nbconvert_exporter": "python",
   "pygments_lexer": "ipython3",
   "version": "3.7.3"
  }
 },
 "nbformat": 4,
 "nbformat_minor": 2
}
